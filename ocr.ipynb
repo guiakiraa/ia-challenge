{
 "cells": [
  {
   "cell_type": "code",
   "execution_count": 1,
   "metadata": {
    "id": "qiBumiwVSkkq"
   },
   "outputs": [],
   "source": [
    "%%capture\n",
    "!pip install easyocr opencv-python"
   ]
  },
  {
   "cell_type": "markdown",
   "metadata": {
    "id": "iXzkgwpEbJ45"
   },
   "source": [
    "## 0. Import Libs"
   ]
  },
  {
   "cell_type": "code",
   "execution_count": 2,
   "metadata": {
    "id": "MAfV9SA-ahxe"
   },
   "outputs": [],
   "source": [
    "import cv2\n",
    "import base64\n",
    "import numpy as np\n",
    "import easyocr\n",
    "import re"
   ]
  },
  {
   "cell_type": "markdown",
   "metadata": {
    "id": "zxY3XNSgazcm"
   },
   "source": [
    "## 1. Carregar imagem e converter para base64"
   ]
  },
  {
   "cell_type": "code",
   "execution_count": 3,
   "metadata": {
    "id": "6MV6CAZvaktr"
   },
   "outputs": [],
   "source": [
    "def image_to_base64(image_path):\n",
    "    with open(image_path, \"rb\") as image_file:\n",
    "        encoded_string = base64.b64encode(image_file.read())\n",
    "        return encoded_string"
   ]
  },
  {
   "cell_type": "markdown",
   "metadata": {
    "id": "NTsUgCHpa3YZ"
   },
   "source": [
    "## 2. Converter base64 de volta para imagem"
   ]
  },
  {
   "cell_type": "code",
   "execution_count": 4,
   "metadata": {
    "id": "g2BE8TJIatJd"
   },
   "outputs": [],
   "source": [
    "def base64_to_image(base64_string):\n",
    "    image_data = base64.b64decode(base64_string)\n",
    "    np_arr = np.frombuffer(image_data, np.uint8)\n",
    "    image = cv2.imdecode(np_arr, cv2.IMREAD_COLOR)\n",
    "    return image"
   ]
  },
  {
   "cell_type": "markdown",
   "metadata": {
    "id": "1nWBeoy-bO0Z"
   },
   "source": [
    "## 3. Rodar EasyOCR na imagem + filtro para só pegar placa"
   ]
  },
  {
   "cell_type": "code",
   "execution_count": 11,
   "metadata": {
    "id": "Xc6PlT7zax5D"
   },
   "outputs": [],
   "source": [
    "def run_easyocr_on_image(img, padrao_placa):\n",
    "    reader = easyocr.Reader(['en'])\n",
    "    results = reader.readtext(img)\n",
    "\n",
    "    for bbox, text, prob in results:\n",
    "        placas = re.findall(padrao_placa, text.upper())\n",
    "        if placas:\n",
    "            print(f'\\nPlaca: {text} - Confiança: {prob:.2f}')"
   ]
  },
  {
   "cell_type": "markdown",
   "metadata": {
    "id": "I6pGgHSFbSa7"
   },
   "source": [
    "## 4. Execução"
   ]
  },
  {
   "cell_type": "code",
   "execution_count": 12,
   "metadata": {
    "id": "Nzvk8Ag9avUz"
   },
   "outputs": [],
   "source": [
    "base64_img = image_to_base64(\"data/placa/exemplo.jpg\")\n",
    "decoded_img = base64_to_image(base64_img)"
   ]
  },
  {
   "cell_type": "code",
   "execution_count": 13,
   "metadata": {
    "colab": {
     "base_uri": "https://localhost:8080/"
    },
    "executionInfo": {
     "elapsed": 10143,
     "status": "ok",
     "timestamp": 1747792864846,
     "user": {
      "displayName": "Guilherme Nakamatsu",
      "userId": "01236509595089833117"
     },
     "user_tz": 180
    },
    "id": "YnTnK69CsnpO",
    "outputId": "38a90f58-ae6a-420c-be3a-dd8f3f8a19f6"
   },
   "outputs": [
    {
     "name": "stderr",
     "output_type": "stream",
     "text": [
      "Neither CUDA nor MPS are available - defaulting to CPU. Note: This module is much faster with a GPU.\n"
     ]
    },
    {
     "name": "stdout",
     "output_type": "stream",
     "text": [
      "\n",
      "Placa: ABC1B34 - Confiança: 0.94\n"
     ]
    }
   ],
   "source": [
    "padrao_placa = r'\\b([A-Z]{3}-?\\d{4}|[A-Z]{3}\\d[A-Z]\\d{2})\\b'\n",
    "run_easyocr_on_image(decoded_img, padrao_placa)"
   ]
  },
  {
   "cell_type": "code",
   "execution_count": null,
   "metadata": {},
   "outputs": [],
   "source": []
  }
 ],
 "metadata": {
  "colab": {
   "authorship_tag": "ABX9TyMCS2GTLcg+dONDoOmcP+91",
   "provenance": []
  },
  "kernelspec": {
   "display_name": "Python 3",
   "name": "python3"
  },
  "language_info": {
   "codemirror_mode": {
    "name": "ipython",
    "version": 3
   },
   "file_extension": ".py",
   "mimetype": "text/x-python",
   "name": "python",
   "nbconvert_exporter": "python",
   "pygments_lexer": "ipython3",
   "version": "3.12.5"
  }
 },
 "nbformat": 4,
 "nbformat_minor": 0
}
